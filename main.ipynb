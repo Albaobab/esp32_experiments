{
 "cells": [
  {
   "cell_type": "markdown",
   "id": "olive-entrance",
   "metadata": {},
   "source": [
    "# Wifi experiments under ESP32 SoCs\n",
    "\n",
    "## Installation\n",
    "\n",
    "#### Python"
   ]
  },
  {
   "cell_type": "raw",
   "id": "funded-faculty",
   "metadata": {},
   "source": [
    "# Debian-based\n",
    "apt install python\n",
    "\n",
    "# Arch-based\n",
    "pacman -S python\n",
    "\n",
    "# RedHat-based\n",
    "dnf install python3"
   ]
  },
  {
   "cell_type": "markdown",
   "id": "exposed-stability",
   "metadata": {},
   "source": [
    "#### MicroPython"
   ]
  },
  {
   "cell_type": "raw",
   "id": "departmental-offset",
   "metadata": {},
   "source": [
    "pip install esptool"
   ]
  },
  {
   "cell_type": "markdown",
   "id": "instant-shock",
   "metadata": {},
   "source": [
    "#### Jupyter\n",
    "You may use either JupyterLab or JupyterNotebook at your convenience"
   ]
  },
  {
   "cell_type": "raw",
   "id": "polished-nursing",
   "metadata": {},
   "source": [
    "pip install jupyterlab\n",
    "pip install notebook"
   ]
  },
  {
   "cell_type": "markdown",
   "id": "opponent-vessel",
   "metadata": {},
   "source": [
    "Up to run MicroPython code under ESP32, a specific Jupyter Kernel is needed"
   ]
  },
  {
   "cell_type": "raw",
   "id": "seventh-parcel",
   "metadata": {},
   "source": [
    "pip install jupyter_micropython_kernel\n",
    "python -m jupyter_micropython_kernel.install"
   ]
  },
  {
   "cell_type": "markdown",
   "id": "antique-asbestos",
   "metadata": {},
   "source": [
    "Now run either JupyterLab or JupyterNotebook "
   ]
  },
  {
   "cell_type": "markdown",
   "id": "characteristic-roads",
   "metadata": {},
   "source": [
    "## Experiments\n",
    "\n",
    "### ESP-NOW communication between two cards\n",
    "\n",
    "The Master card will be connected to the Internet by Wifi and to the Slave by ESP-NOW, and has two roles :\n",
    "- it will retrieve data from a server and send it to the Slave\n",
    "- it will receive data from the Slave and send it to the server\n",
    "\n",
    "The Slave card will be connected to the Master by ESP-NOW, and has two roles:\n",
    "- it will receive data from the Master (and will process actions in real life)\n",
    "- it will send data (from sensors in real life) to the Master\n"
   ]
  },
  {
   "cell_type": "markdown",
   "id": "trained-polyester",
   "metadata": {},
   "source": [
    "#### Install a Micropython firmware with ESP-NOW integration\n",
    "\n",
    "You can find informations about this special firmware here :\n",
    "\n",
    "https://micropython-glenn20.readthedocs.io/en/latest/library/espnow.html\n",
    "\n",
    "Run this command in a MicroPython Notebook to write the firmware to the both serial ports :"
   ]
  },
  {
   "cell_type": "code",
   "execution_count": null,
   "id": "finnish-deviation",
   "metadata": {},
   "outputs": [],
   "source": [
    "%esptool --port=MASTER_PORT esp32 esp-now.bin\n",
    "%esptool --port=SLAVE_PORT esp32 esp-now.bin"
   ]
  },
  {
   "cell_type": "markdown",
   "id": "global-retirement",
   "metadata": {},
   "source": [
    "\n",
    "#### Connect to a serial port\n",
    "\n",
    "Run this command in a MicroPython Notebook to connect to the choosed serial port :"
   ]
  },
  {
   "cell_type": "code",
   "execution_count": null,
   "id": "alternative-cheat",
   "metadata": {},
   "outputs": [],
   "source": [
    "%serialconnect --port=MASTER_PORT --baud=115200"
   ]
  },
  {
   "cell_type": "markdown",
   "id": "severe-auction",
   "metadata": {},
   "source": [
    "#### Enable a Wifi manager on the Master device\n",
    "\n",
    "The serial port connected need to be Master's.\n",
    "\n",
    "Add the Wifi Manager Module to the device. "
   ]
  },
  {
   "cell_type": "code",
   "execution_count": null,
   "id": "attended-novel",
   "metadata": {},
   "outputs": [],
   "source": [
    "%mpy-cross --set-exe mpy-cross\n",
    "\n",
    "# The mpy-cross command is used to create byte code from a py file\n",
    "%mpy-cross wifi_manager.py\n",
    "# --binary is needed when sending a .mpy file\n",
    "%sendtofile --binary --source ./wifi_manager.mpy /\n",
    "%sendtofile --source ./boot_wifi_manager.py /boot.py\n",
    "\n",
    "import machine\n",
    "machine.reset()"
   ]
  },
  {
   "cell_type": "markdown",
   "id": "plain-interim",
   "metadata": {},
   "source": [
    "The Wifi manager will create a Wifi Hotspot if it can't connect anywhere.\n",
    "\n",
    "Then you need to connect a device to this Hotspot and access from a web browser to the address 192.168.4.1 and follow instructions."
   ]
  },
  {
   "cell_type": "markdown",
   "id": "applied-climate",
   "metadata": {},
   "source": [
    "#### Initialize ESP-NOW on both devices\n",
    "\n",
    "Master"
   ]
  },
  {
   "cell_type": "code",
   "execution_count": null,
   "id": "rural-democrat",
   "metadata": {},
   "outputs": [],
   "source": [
    "%serialconnect --port=MASTER_PORT --baud=115200\n",
    "\n",
    "%mpy-cross thingspeak.py\n",
    "%sendtofile --binary --source ./thingspeak.mpy /\n",
    "\n",
    "import network\n",
    "from esp import espnow\n",
    "from thinkspeak import post_thingspeak, get_thingspeak\n",
    "\n",
    "wlan = network.WLAN(network.AP_IF)\n",
    "wlan.active(True)\n",
    "wlan.config(hidden=True)\n",
    "\n",
    "# Prints Master's MAC\n",
    "print(wlan.config('mac'))"
   ]
  },
  {
   "cell_type": "markdown",
   "id": "moved-apollo",
   "metadata": {},
   "source": [
    "Slave"
   ]
  },
  {
   "cell_type": "code",
   "execution_count": null,
   "id": "decreased-lawyer",
   "metadata": {},
   "outputs": [],
   "source": [
    "%serialconnect --port=SLAVE_PORT --baud=115200\n",
    "\n",
    "import network\n",
    "from esp import espnow\n",
    "\n",
    "wlan = network.WLAN(network.AP_IF)\n",
    "wlan.config(hidden=True)\n",
    "wlan.config(ps_mode=network.WIFI_PS_NONE)\n",
    "wlan.active(True)\n",
    "\n",
    "# Prints Slave's MAC\n",
    "print(wlan.config('mac'))"
   ]
  },
  {
   "cell_type": "markdown",
   "id": "average-policy",
   "metadata": {},
   "source": [
    "#### Make Master and Slave peers\n",
    "\n",
    "Master"
   ]
  },
  {
   "cell_type": "code",
   "execution_count": null,
   "id": "atmospheric-defense",
   "metadata": {},
   "outputs": [],
   "source": [
    "%serialconnect --port=MASTER_PORT --baud=115200\n",
    "\n",
    "e = espnow.ESPNow()\n",
    "e.init()\n",
    "\n",
    "# Put here the MAC printed\n",
    "peer = b'SLAVE_MAC'\n",
    "\n",
    "e.add_peer(peer, ifidx=network.AP_IF)"
   ]
  },
  {
   "cell_type": "markdown",
   "id": "simple-notification",
   "metadata": {},
   "source": [
    "Slave\n"
   ]
  },
  {
   "cell_type": "code",
   "execution_count": null,
   "id": "liable-nelson",
   "metadata": {},
   "outputs": [],
   "source": [
    "%serialconnect --port=SLAVE_PORT --baud=115200\n",
    "\n",
    "e = espnow.ESPNow()\n",
    "e.init()\n",
    "\n",
    "# Put here the MAC printed\n",
    "peer = b'MASTER_MAC'\n",
    "\n",
    "e.add_peer(peer, ifidx=network.AP_IF)"
   ]
  },
  {
   "cell_type": "markdown",
   "id": "polar-bulletin",
   "metadata": {},
   "source": [
    "#### Retrieve data from a server and send it to the Slave\n",
    "\n",
    "[WARNING]: warning.png\n",
    "\n",
    "![WARNING][WARNING] Don't run it here, only run it on master.ipynb and slave.ipynb to run both at the same moment ![WARNING][WARNING]\n",
    "\n",
    "\n",
    "Master"
   ]
  },
  {
   "cell_type": "code",
   "execution_count": null,
   "id": "tender-gilbert",
   "metadata": {},
   "outputs": [],
   "source": [
    "%serialconnect --port=MASTER_PORT --baud=115200\n",
    "\n",
    "e.clear(True)\n",
    "while True:\n",
    "    if e.poll():\n",
    "        last = None\n",
    "        for host, msg in e:\n",
    "            if msg and (str(msg, 'utf8') != last):\n",
    "                last = str(msg, 'utf8')\n",
    "                post_thingspeak(\"E13BHXREJ6K0V1DQ\", [msg])"
   ]
  },
  {
   "cell_type": "markdown",
   "id": "loved-plain",
   "metadata": {},
   "source": [
    "Slave"
   ]
  },
  {
   "cell_type": "code",
   "execution_count": null,
   "id": "pediatric-requirement",
   "metadata": {},
   "outputs": [],
   "source": [
    "%serialconnect --port=SLAVE_PORT --baud=115200\n",
    "\n",
    "import time\n",
    "\n",
    "for i in range(5):\n",
    "    print(i)\n",
    "    ok = e.send(peer, str(i), True)\n",
    "    while not ok:\n",
    "        ok = e.send(peer, str(i), True)\n",
    "    time.sleep(0.2)"
   ]
  },
  {
   "cell_type": "markdown",
   "id": "accepted-shaft",
   "metadata": {},
   "source": [
    "#### Receive data from the Slave and send it to the server\n",
    "\n",
    "[WARNING]: warning.png\n",
    "\n",
    "![WARNING][WARNING] Don't run it here, only run it on master.ipynb and slave.ipynb to run both at the same moment ![WARNING][WARNING]\n",
    "\n",
    "Master"
   ]
  },
  {
   "cell_type": "code",
   "execution_count": null,
   "id": "hollow-credit",
   "metadata": {},
   "outputs": [],
   "source": [
    "%serialconnect --port=MASTER_PORT --baud=115200\n",
    "\n",
    "import time\n",
    "\n",
    "last = \"\"\n",
    "while True:\n",
    "    data = get_thingspeak(\"179\")\n",
    "    print(data)\n",
    "    if (data != last):\n",
    "        last = data\n",
    "        ok = e.send(peer, data, True)\n",
    "        while not ok:\n",
    "            ok = e.send(peer, data, True)\n",
    "    time.sleep(1)\n"
   ]
  },
  {
   "cell_type": "markdown",
   "id": "egyptian-somewhere",
   "metadata": {},
   "source": [
    "Slave"
   ]
  },
  {
   "cell_type": "code",
   "execution_count": null,
   "id": "welsh-emperor",
   "metadata": {},
   "outputs": [],
   "source": [
    "%serialconnect --port=SLAVE_PORT --baud=115200\n",
    "\n",
    "e.clear(True)\n",
    "while True:\n",
    "    if e.poll():\n",
    "        last = None\n",
    "        for host, msg in e:\n",
    "            if msg and (str(msg, 'utf8') != last):\n",
    "                last = str(msg, 'utf8')\n",
    "                print(msg)"
   ]
  }
 ],
 "metadata": {
  "kernelspec": {
   "display_name": "MicroPython - USB",
   "language": "micropython",
   "name": "micropython"
  },
  "language_info": {
   "codemirror_mode": "python",
   "file_extension": ".py",
   "mimetype": "text/python",
   "name": "micropython"
  }
 },
 "nbformat": 4,
 "nbformat_minor": 5
}
