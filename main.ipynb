{
 "cells": [
  {
   "cell_type": "markdown",
   "id": "cooked-physiology",
   "metadata": {},
   "source": [
    "# Wifi experiments under ESP32 SoCs\n",
    "\n",
    "## Context\n",
    "\n",
    "### M1 Internship at LS2N, Polytech Nantes, Summer 2021\n",
    "\n",
    "#### SmartComputerLab\n",
    "\n",
    "[SmartComputerLab](http://www.smartcomputerlab.org/), conducted by [Przemyslaw BAKOWSKI](https://www.univ-nantes.fr/przemyslaw-bakowski), works around creating dev [IoT](https://en.wikipedia.org/wiki/Internet_of_things) kits using ARM or ESP32 [Architectures](https://en.wikipedia.org/wiki/Computer_architecture).\n",
    "\n",
    "Currently, [Prof. BAKOWSKI](https://www.univ-nantes.fr/przemyslaw-bakowski) wants to experiment the capability to use a quite new technology in ESP32 SoCs: [MicroPython](https://en.wikipedia.org/wiki/MicroPython).\n",
    "\n",
    "#### Espressif\n",
    "\n",
    "[Espressif](https://www.espressif.com/en) is the company working on the ESP32's [Architecture](https://en.wikipedia.org/wiki/Computer_architecture).\n",
    "\n",
    "ESP32 is running on [FreeRTOS](https://en.wikipedia.org/wiki/FreeRTOS) and has specific functions defined in [ESP-IDF](https://docs.espressif.com/projects/esp-idf/en/latest/esp32/), a framework made by [Espressif](https://www.espressif.com/en).\n",
    "\n",
    "Some of these functions are really useful but not yet implemented under [MicroPython](https://en.wikipedia.org/wiki/MicroPython). Therefore, some people are already trying to implement specific [MicroPython](https://en.wikipedia.org/wiki/MicroPython) firmwares enabling them.\n",
    "\n",
    "#### ESP-NOW\n",
    "\n",
    "[ESP-NOW](https://www.espressif.com/en/products/software/esp-now/overview) is one of the [ESP-IDF](https://docs.espressif.com/projects/esp-idf/en/latest/esp32/) functionalities we want to experiment, is a WiFi proprietary protocol whose aim is to have low energy consumption.\n",
    "\n",
    "\n",
    "Custom firmwares integrating [ESP-NOW](https://www.espressif.com/en/products/software/esp-now/overview) can be found here: https://github.com/glenn20/micropython-espnow-images\n",
    "\n",
    "#### WiFi Sniffing\n",
    "\n",
    "[ESP-IDF](https://docs.espressif.com/projects/esp-idf/en/latest/esp32/) allows developpers to easily create a WiFi sniffer. While it is not currently added in [MicroPython](https://en.wikipedia.org/wiki/MicroPython), we forked [MicroPython](https://en.wikipedia.org/wiki/MicroPython) to https://github.com/Albaobab/micropython with this functionality.\n",
    "\n",
    "## Installation\n",
    "\n",
    "#### Python\n",
    "\n",
    "```shell\n",
    "# Debian-based\n",
    "apt install python\n",
    "\n",
    "# Arch-based\n",
    "pacman -S python\n",
    "\n",
    "# RedHat-based\n",
    "dnf install python3\n",
    "```\n",
    "\n",
    "#### MicroPython\n",
    "\n",
    "```shell\n",
    "pip install esptool\n",
    "```\n",
    "\n",
    "#### Jupyter\n",
    "You may use either JupyterLab or JupyterNotebook at your convenience\n",
    "\n",
    "```shell\n",
    "pip install jupyterlab\n",
    "pip install notebook\n",
    "```"
   ]
  },
  {
   "cell_type": "markdown",
   "id": "bottom-occasions",
   "metadata": {},
   "source": [
    "Up to run MicroPython code under ESP32, a specific Jupyter Kernel is needed\n",
    "\n",
    "```shell\n",
    "pip install jupyter_micropython_kernel\n",
    "python -m jupyter_micropython_kernel.install\n",
    "```"
   ]
  },
  {
   "cell_type": "markdown",
   "id": "incredible-wealth",
   "metadata": {},
   "source": [
    "Now run either JupyterLab or JupyterNotebook "
   ]
  },
  {
   "cell_type": "markdown",
   "id": "infrared-springfield",
   "metadata": {},
   "source": [
    "## Experiments\n",
    "\n",
    "### ESP-NOW communication between two cards\n",
    "\n",
    "The Master card will be connected to the Internet by WiFi and to the Slaves by ESP-NOW, and has two roles :\n",
    "- it will retrieve data from a server and send it to the Slaves\n",
    "- it will receive data from the Slaves and send it to the server\n",
    "\n",
    "The Slaves cards will be connected to the Master by ESP-NOW, and has two roles:\n",
    "- it will receive data from the Master (and will process actions in practical cases)\n",
    "- it will send data (from sensors in practical cases) to the Master\n"
   ]
  },
  {
   "cell_type": "markdown",
   "id": "convinced-monitor",
   "metadata": {},
   "source": [
    "#### Install a Micropython firmware with ESP-NOW integration\n",
    "\n",
    "You can find informations about this specific firmware here :\n",
    "\n",
    "https://micropython-glenn20.readthedocs.io/en/latest/library/espnow.html\n",
    "\n",
    "Run this command in a MicroPython Notebook to write the firmware to both serial ports :"
   ]
  },
  {
   "cell_type": "code",
   "execution_count": null,
   "id": "caring-investment",
   "metadata": {},
   "outputs": [],
   "source": [
    "%esptool --port=1 esp32 bin/esp-now.bin\n",
    "%esptool --port=2 esp32 bin/esp-now.bin\n",
    "%esptool --port=3 esp32 bin/esp-now.bin"
   ]
  },
  {
   "cell_type": "markdown",
   "id": "liberal-table",
   "metadata": {},
   "source": [
    "\n",
    "#### Connect to a serial port\n",
    "\n",
    "Run this command in a MicroPython Notebook to connect to the choosen serial port :"
   ]
  },
  {
   "cell_type": "code",
   "execution_count": null,
   "id": "automated-foster",
   "metadata": {},
   "outputs": [],
   "source": [
    "%serialconnect --port=1 --baud=115200"
   ]
  },
  {
   "cell_type": "markdown",
   "id": "elder-response",
   "metadata": {},
   "source": [
    "#### Enable a Wifi manager and Thingspeak communication on the Master device\n",
    "\n",
    "The serial port connected needs to be Master's."
   ]
  },
  {
   "cell_type": "code",
   "execution_count": null,
   "id": "simple-software",
   "metadata": {},
   "outputs": [],
   "source": [
    "%serialconnect --port=1 --baud=115200\n",
    "\n",
    "# The mpy-cross command is used to create byte code from a py file\n",
    "%mpy-cross --set-exe ./mpy-cross\n",
    "\n",
    "# WiFi Manager\n",
    "%mpy-cross lib/wifi_manager.py\n",
    "# --binary is needed when sending a .mpy file\n",
    "%sendtofile --binary --source lib/wifi_manager.mpy /\n",
    "%sendtofile --source lib/boot_wifi_manager.py /boot.py\n",
    "\n",
    "%mpy-cross --set-exe ./mpy-cross\n",
    "\n",
    "# Thingspeak\n",
    "%mpy-cross lib/thingspeak.py\n",
    "%sendtofile --binary --source lib/thingspeak.mpy /\n",
    "\n",
    "import machine\n",
    "machine.reset()"
   ]
  },
  {
   "cell_type": "markdown",
   "id": "forty-fleece",
   "metadata": {},
   "source": [
    "The Wifi manager will create a Wifi Hotspot if it cannot connect anywhere.\n",
    "\n",
    "Then you need to connect a device to this Hotspot and access the address `192.168.4.1` from a web browser and follow the instructions."
   ]
  },
  {
   "cell_type": "markdown",
   "id": "postal-concern",
   "metadata": {},
   "source": [
    "#### Initialize ESP-NOW on both devices\n",
    "\n",
    "Master"
   ]
  },
  {
   "cell_type": "code",
   "execution_count": null,
   "id": "defined-performer",
   "metadata": {},
   "outputs": [],
   "source": [
    "%serialconnect --port=1 --baud=115200\n",
    "\n",
    "import network\n",
    "from esp import espnow\n",
    "from thingspeak import post_thingspeak, get_thingspeak\n",
    "\n",
    "wlan = network.WLAN(network.AP_IF)\n",
    "wlan.active(True)\n",
    "wlan.config(hidden=True)\n",
    "\n",
    "# Prints Master's MAC\n",
    "print(wlan.config('mac'))"
   ]
  },
  {
   "cell_type": "markdown",
   "id": "administrative-affiliate",
   "metadata": {},
   "source": [
    "Slave"
   ]
  },
  {
   "cell_type": "code",
   "execution_count": null,
   "id": "tight-ethernet",
   "metadata": {},
   "outputs": [],
   "source": [
    "%serialconnect --port=2 --baud=115200\n",
    "\n",
    "import network\n",
    "from esp import espnow\n",
    "\n",
    "wlan = network.WLAN(network.AP_IF)\n",
    "wlan.config(hidden=True)\n",
    "wlan.config(ps_mode=network.WIFI_PS_NONE)\n",
    "wlan.active(True)\n",
    "\n",
    "# Prints Slave's MAC\n",
    "print(wlan.config('mac'))"
   ]
  },
  {
   "cell_type": "code",
   "execution_count": null,
   "id": "white-wiring",
   "metadata": {},
   "outputs": [],
   "source": [
    "%serialconnect --port=3 --baud=115200\n",
    "\n",
    "import network\n",
    "from esp import espnow\n",
    "\n",
    "wlan = network.WLAN(network.AP_IF)\n",
    "wlan.config(hidden=True)\n",
    "wlan.config(ps_mode=network.WIFI_PS_NONE)\n",
    "wlan.active(True)\n",
    "\n",
    "# Prints Slave's MAC\n",
    "print(wlan.config('mac'))"
   ]
  },
  {
   "cell_type": "markdown",
   "id": "material-reviewer",
   "metadata": {},
   "source": [
    "#### Make Master and Slave peers\n",
    "\n",
    "Master"
   ]
  },
  {
   "cell_type": "code",
   "execution_count": null,
   "id": "opening-preservation",
   "metadata": {},
   "outputs": [],
   "source": [
    "%serialconnect --port=1 --baud=115200\n",
    "\n",
    "e = espnow.ESPNow()\n",
    "e.init()\n",
    "\n",
    "# Put here the Slaves MACs printed\n",
    "e.add_peer(b'$o(\\xc8\\x01%', ifidx=network.AP_IF)\n",
    "e.add_peer(b\"\\xfc\\xf5\\xc4'\\xcc1\", ifidx=network.AP_IF)"
   ]
  },
  {
   "cell_type": "markdown",
   "id": "fewer-flooring",
   "metadata": {},
   "source": [
    "Slave\n"
   ]
  },
  {
   "cell_type": "code",
   "execution_count": null,
   "id": "living-standard",
   "metadata": {},
   "outputs": [],
   "source": [
    "%serialconnect --port=2 --baud=115200\n",
    "\n",
    "e = espnow.ESPNow()\n",
    "e.init()\n",
    "\n",
    "# Put here the Master MAC printed\n",
    "peer = b'L\\x11\\xae\\x89\\xbd\\xd5'\n",
    "\n",
    "e.add_peer(peer, ifidx=network.AP_IF)"
   ]
  },
  {
   "cell_type": "code",
   "execution_count": null,
   "id": "frequent-theorem",
   "metadata": {},
   "outputs": [],
   "source": [
    "%serialconnect --port=3 --baud=115200\n",
    "\n",
    "e = espnow.ESPNow()\n",
    "e.init()\n",
    "\n",
    "# Put here the Master MAC printed\n",
    "peer = b'L\\x11\\xae\\x89\\xbd\\xd5'\n",
    "\n",
    "e.add_peer(peer, ifidx=network.AP_IF)"
   ]
  },
  {
   "cell_type": "markdown",
   "id": "billion-samuel",
   "metadata": {},
   "source": [
    "#### Retrieve data from a server and send it to the Slave\n",
    "\n",
    "[WARNING]: warning.png\n",
    "\n",
    "![WARNING][WARNING] Don't run it here, only run it on master.ipynb and slave.ipynb to run both at the same time ![WARNING][WARNING]\n",
    "\n",
    "\n",
    "Master"
   ]
  },
  {
   "cell_type": "code",
   "execution_count": null,
   "id": "successful-wales",
   "metadata": {},
   "outputs": [],
   "source": [
    "%serialconnect --port=1 --baud=115200\n",
    "def prettify(byte_array):\n",
    "    return ':'.join('%02x' % int(b) for b in byte_array)\n",
    "\n",
    "e.clear(True)\n",
    "while True:\n",
    "    if e.poll():\n",
    "        last = None\n",
    "        for host, msg in e:\n",
    "            if msg and (str(msg, 'utf8') != last):\n",
    "                last = str(msg, 'utf8')\n",
    "                post_thingspeak(\"E13BHXREJ6K0V1DQ\", [msg, prettify(host)], proxy=\"193.52.104.20\", proxy_port=3128)"
   ]
  },
  {
   "cell_type": "markdown",
   "id": "architectural-shelf",
   "metadata": {},
   "source": [
    "Slave"
   ]
  },
  {
   "cell_type": "code",
   "execution_count": null,
   "id": "adjusted-plenty",
   "metadata": {},
   "outputs": [],
   "source": [
    "%serialconnect --port=2 --baud=115200\n",
    "\n",
    "import time\n",
    "\n",
    "for i in range(5):\n",
    "    print(i)\n",
    "    ok = e.send(peer, str(i), True)\n",
    "    while not ok:\n",
    "        ok = e.send(peer, str(i), True)\n",
    "    time.sleep(0.2)"
   ]
  },
  {
   "cell_type": "markdown",
   "id": "found-airport",
   "metadata": {},
   "source": [
    "#### Receive data from the Slave and send it to the server\n",
    "\n",
    "[WARNING]: warning.png\n",
    "\n",
    "![WARNING][WARNING] Don't run it here, only run it on master.ipynb and slave.ipynb to run both at the same time ![WARNING][WARNING]\n",
    "\n",
    "Master"
   ]
  },
  {
   "cell_type": "code",
   "execution_count": null,
   "id": "lesser-contract",
   "metadata": {},
   "outputs": [],
   "source": [
    "%serialconnect --port=1 --baud=115200\n",
    "\n",
    "import time\n",
    "\n",
    "# Broadcast address to send to every Slaves\n",
    "peer = b'\\xff\\xff\\xff\\xff\\xff\\xff'\n",
    "e.add_peer(peer)\n",
    "\n",
    "last = \"\"\n",
    "while True:\n",
    "    data = get_thingspeak(\"179\", \"193.52.104.20\", 3128)\n",
    "    print(data)\n",
    "    if (data != last):\n",
    "        last = data\n",
    "        ok = e.send(peer, data, True)\n",
    "        while not ok:\n",
    "            ok = e.send(peer, data, True)\n",
    "    time.sleep(1)"
   ]
  },
  {
   "cell_type": "markdown",
   "id": "lesbian-blame",
   "metadata": {},
   "source": [
    "Slave"
   ]
  },
  {
   "cell_type": "code",
   "execution_count": null,
   "id": "assumed-ontario",
   "metadata": {},
   "outputs": [],
   "source": [
    "%serialconnect --port=2 --baud=115200\n",
    "\n",
    "e.clear(True)\n",
    "while True:\n",
    "    if e.poll():\n",
    "        last = None\n",
    "        for host, msg in e:\n",
    "            if msg and (str(msg, 'utf8') != last):\n",
    "                last = str(msg, 'utf8')\n",
    "                print(msg)"
   ]
  },
  {
   "cell_type": "markdown",
   "id": "cellular-median",
   "metadata": {},
   "source": [
    "### Modifying [MicroPython](https://en.wikipedia.org/wiki/MicroPython)'s code base\n",
    "\n",
    "Up to use C libraries inside [MicroPython](https://en.wikipedia.org/wiki/MicroPython), we need to understand how Python objects are transformed into C types and vice versa.\n",
    "\n",
    "Complete files shown below can be found in the [Github repository of Micropython](https://github.com/micropython/micropython).\n",
    "\n",
    "Every [MicroPython](https://en.wikipedia.org/wiki/MicroPython) object is a `mp_obj_t`.\n",
    "\n",
    "##### `py/obj.h`\n",
    "```c\n",
    "...\n",
    "typedef void *mp_obj_t;\n",
    "typedef const void *mp_const_obj_t;\n",
    "...\n",
    "```\n",
    "\n",
    "For example, if we want to transform an integer given by a C library into a MicroPython integer object, we can use `mp_obj_new_int`.\n",
    "\n",
    "##### `py/obj.h`\n",
    "```c\n",
    "...\n",
    "#define MP_OBJ_NEW_SMALL_INT(small_int) ((mp_obj_t)((((mp_uint_t)(small_int)) << 2) | 1))\n",
    "...\n",
    "mp_obj_t mp_obj_new_int(mp_int_t value);\n",
    "...\n",
    "```\n",
    "##### `py/objint.c`\n",
    "```c\n",
    "...\n",
    "mp_obj_t mp_obj_new_int(mp_int_t value) {\n",
    "    if (MP_SMALL_INT_FITS(value)) {\n",
    "        return MP_OBJ_NEW_SMALL_INT(value);\n",
    "    }\n",
    "    mp_raise_msg(&mp_type_OverflowError, MP_ERROR_TEXT(\"small int overflow\"));\n",
    "    return mp_const_none;\n",
    "}\n",
    "...\n",
    "```\n",
    "\n",
    "On the other side, calling `mp_obj_get_int` will allow you to get an integer from a MicroPython object and to return it to the user.\n",
    "\n",
    "##### `ports/esp32/mpconfigport.h`\n",
    "```c\n",
    "...\n",
    "typedef int32_t mp_int_t;\n",
    "...\n",
    "```\n",
    "##### `py/obj.h`\n",
    "```c\n",
    "...\n",
    "#define MP_OBJ_SMALL_INT_VALUE(o) (((mp_int_t)(o)) >> 1)\n",
    "...\n",
    "mp_int_t mp_obj_get_int(mp_const_obj_t arg);\n",
    "...\n",
    "```\n",
    "##### `py/objint.c`\n",
    "```c\n",
    "...\n",
    "mp_int_t mp_obj_get_int(mp_const_obj_t arg) {\n",
    "    if (arg == mp_const_false) {\n",
    "        return 0;\n",
    "    } else if (arg == mp_const_true) {\n",
    "        return 1;\n",
    "    } else if (mp_obj_is_small_int(arg)) {\n",
    "        return MP_OBJ_SMALL_INT_VALUE(arg);\n",
    "    } else if (mp_obj_is_type(arg, &mp_type_int)) {\n",
    "        return mp_obj_int_get_checked(arg);\n",
    "    } else {\n",
    "        mp_obj_t res = mp_unary_op(MP_UNARY_OP_INT, (mp_obj_t)arg);\n",
    "        return mp_obj_int_get_checked(res);\n",
    "    }\n",
    "}\n",
    "...\n",
    "```\n",
    "\n",
    "The easiest and most light weight way to create an object-like return value is using MicroPython tuples like this :\n",
    "\n",
    "```c\n",
    "mp_obj_t raw_tuple[] = {\n",
    "    mp_obj_new_tuple(number_of_objects_in_another_raw_tuple, another_raw_tuple),\n",
    "    mp_obj_new_bytes(byte_array, length_of_byte_array),\n",
    "    mp_obj_new_int(10),\n",
    "};\n",
    "\n",
    "mp_obj_t tuple = mp_obj_new_tuple(3, raw_tuple);\n",
    "```\n",
    "\n",
    "Thanks to the these [MicroPython](https://en.wikipedia.org/wiki/MicroPython) functions and [ESP-IDF promiscuous functions](https://docs.espressif.com/projects/esp-idf/en/latest/esp32/api-reference/network/esp_wifi.html?highlight=promiscuous#_CPPv430esp_wifi_set_promiscuous_rx_cb21wifi_promiscuous_cb_t), we have implemented a WiFi Sniffer used next.\n",
    "\n",
    "### WiFi Sniffing\n",
    "\n",
    "Install the firmware with the WiFi sniffer firmware.\n"
   ]
  },
  {
   "cell_type": "code",
   "execution_count": null,
   "id": "bulgarian-phrase",
   "metadata": {},
   "outputs": [],
   "source": [
    "%esptool --port=0 esp32 bin/promiscuous.bin"
   ]
  },
  {
   "cell_type": "markdown",
   "id": "stretch-calculator",
   "metadata": {},
   "source": [
    "Then, we need to activate the promiscuous mode of the WiFi interface."
   ]
  },
  {
   "cell_type": "code",
   "execution_count": null,
   "id": "scientific-fraud",
   "metadata": {},
   "outputs": [],
   "source": [
    "%serialconnect --port=0 --baud=115200\n",
    "\n",
    "import network\n",
    "import time\n",
    "wlan = network.WLAN()\n",
    "wlan.active(True)\n",
    "# Activates the promiscuous mode\n",
    "wlan.config(promiscuous=True)"
   ]
  },
  {
   "cell_type": "markdown",
   "id": "medieval-death",
   "metadata": {},
   "source": [
    "#### Type Filters\n",
    "\n",
    "`FILTER_MASK_MGMT`\n",
    "\n",
    "    filter the packets with type of WIFI_PKT_MGMT\n",
    "\n",
    "`FILTER_MASK_CTRL`\n",
    "\n",
    "    filter the packets with type of WIFI_PKT_CTRL\n",
    "\n",
    "`FILTER_MASK_DATA`\n",
    "\n",
    "    filter the packets with type of WIFI_PKT_DATA\n",
    "\n",
    "`FILTER_MASK_MISC`\n",
    "\n",
    "    filter the packets with type of WIFI_PKT_MISC\n",
    "\n",
    "`FILTER_MASK_DATA_MPDU`\n",
    "\n",
    "    filter the MPDU which is a kind of WIFI_PKT_DATA\n",
    "\n",
    "`FILTER_MASK_DATA_AMPDU`\n",
    "\n",
    "    filter the AMPDU which is a kind of WIFI_PKT_DATA\n",
    "\n",
    "`FILTER_MASK_FCSFAIL`\n",
    "\n",
    "    filter the FCS failed packets, do not open it in general\n",
    "\n",
    "#### Subtypes Filters\n",
    "\n",
    "`CTRL_FILTER_MASK_ALL`\n",
    "\n",
    "    filter all control packets\n",
    "\n",
    "`CTRL_FILTER_MASK_WRAPPER`\n",
    "\n",
    "    filter the control packets with subtype of Control Wrapper\n",
    "\n",
    "`CTRL_FILTER_MASK_BAR`\n",
    "\n",
    "    filter the control packets with subtype of Block Ack Request\n",
    "\n",
    "`CTRL_FILTER_MASK_BA`\n",
    "\n",
    "    filter the control packets with subtype of Block Ack\n",
    "\n",
    "`CTRL_FILTER_MASK_PSPOLL`\n",
    "\n",
    "    filter the control packets with subtype of PS-Poll\n",
    "\n",
    "`CTRL_FILTER_MASK_RTS`\n",
    "\n",
    "    filter the control packets with subtype of RTS\n",
    "\n",
    "`CTRL_FILTER_MASK_CTS`\n",
    "\n",
    "    filter the control packets with subtype of CTS\n",
    "\n",
    "`CTRL_FILTER_MASK_ACK`\n",
    "\n",
    "    filter the control packets with subtype of ACK\n",
    "\n",
    "`CTRL_FILTER_MASK_CFEND`\n",
    "\n",
    "    filter the control packets with subtype of CF-END\n",
    "\n",
    "`CTRL_FILTER_MASK_CFENDACK`\n",
    "\n",
    "    filter the control packets with subtype of CF-END+CF-ACK\n",
    "\n",
    "##### `example:`"
   ]
  },
  {
   "cell_type": "code",
   "execution_count": null,
   "id": "organized-switch",
   "metadata": {},
   "outputs": [],
   "source": [
    "wlan.config(type_filter=network.FILTER_MASK_MGMT, subtype_filter=network.CTRL_FILTER_MASK_ALL)"
   ]
  },
  {
   "cell_type": "markdown",
   "id": "military-treat",
   "metadata": {},
   "source": [
    "#### Reading returned values\n",
    "\n",
    "`find_packet` function take the WiFi channel wanted as parameter.\n",
    "\n",
    "It returns a tuple object defined this way:\n",
    "\n",
    "`[0]` - It is equals to `network.NEW_PACKET` if the packet data is different than the last found or `network.SAME_PACKET` if it is the same one. \n",
    "\n",
    "Other values are only send if this one `[0]` is equals to `network.NEW_PACKET`.\n",
    "\n",
    "`[1]` - It contains a tuple object containing metadata defined this way:\n",
    "\n",
    "* `[0]` Received Signal Strength Indicator(RSSI) of packet. unit: dBm\n",
    "* `[1]` PHY rate encoding of the packet. Only valid for non HT(11bg) packet \n",
    "* `[2]` 0: non HT(11bg) packet; 1: HT(11n) packet; 3: VHT(11ac) packet\n",
    "* `[3]` Modulation Coding Scheme. If is HT(11n) packet, shows the modulation, range from 0 to 76(MSC0 ~ MCS76)\n",
    "* `[4]` Channel Bandwidth of the packet. 0: 20MHz; 1: 40MHz\n",
    "* `[5]` Aggregation. 0: MPDU packet; 1: AMPDU packet\n",
    "* `[6]` Space Time Block Code(STBC). 0: non STBC packet; 1: STBC packet\n",
    "* `[7]` Flag is set for 11n packets which are LDPC\n",
    "* `[8]` Short Guide Interval(SGI). 0: Long GI; 1: Short GI\n",
    "* `[9]` Noise floor of Radio Frequency Module(RF). unit: 0.25dBm\n",
    "* `[10]` Primary channel on which this packet is received\n",
    "* `[11]` Secondary channel on which this packet is received. 0: none; 1: above; 2: below\n",
    "* `[12]` Timestamp. The local time when this packet is received. It is precise only if modem sleep or light sleep is not enabled. unit: microsecond\n",
    "* `[13]` Antenna number from which this packet is received. 0: WiFi antenna 0; 1: WiFi antenna 1\n",
    "* `[14]` Length of packet including Frame Check Sequence(FCS)\n",
    "* `[15]` State of the packet. 0: no error; others: error numbers which are not public\n",
    "\n",
    "`[2]` - It contains the raw WiFi packet found.\n",
    "\n",
    "`[3]` - It contains the WiFi packet type found."
   ]
  },
  {
   "cell_type": "markdown",
   "id": "correct-india",
   "metadata": {},
   "source": [
    "#### Using the new `find_packet` function\n",
    "\n",
    "Here is a sample trying to find MAC addresses of devices communicating by WiFi over three different WiFi channels"
   ]
  },
  {
   "cell_type": "code",
   "execution_count": null,
   "id": "respiratory-conservative",
   "metadata": {},
   "outputs": [],
   "source": [
    "%serialconnect --port=0 --baud=115200\n",
    "import utime\n",
    "\n",
    "wlan.config(type_filter=network.FILTER_MASK_ALL)\n",
    "\n",
    "found = set()\n",
    "\n",
    "def find_users(chan):\n",
    "    print(\"Start finding MAC on the channel \" + chan)\n",
    "    t = utime.time()\n",
    "    p = wlan.find_packet(chan)\n",
    "\n",
    "    while p != None and p[0] == network.NEW_PACKET and (utime.time() + 30 > t):\n",
    "        found.add(p[2][10:16])\n",
    "\n",
    "        p = wlan.find_packet(chan)\n",
    "    print(\"Stop finding MAC on the channel \" + chan)\n",
    "\n",
    "find_users(1)\n",
    "find_users(6)\n",
    "find_users(11)\n",
    "\n",
    "print(\"MAC addresses found: \" + found)"
   ]
  }
 ],
 "metadata": {
  "kernelspec": {
   "display_name": "MicroPython - USB",
   "language": "micropython",
   "name": "micropython"
  },
  "language_info": {
   "codemirror_mode": "python",
   "file_extension": ".py",
   "mimetype": "text/python",
   "name": "micropython"
  }
 },
 "nbformat": 4,
 "nbformat_minor": 5
}
