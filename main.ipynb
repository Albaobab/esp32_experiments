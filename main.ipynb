{
 "cells": [
  {
   "cell_type": "markdown",
   "id": "desirable-algorithm",
   "metadata": {},
   "source": [
    "# Wifi experiments under ESP32 SoCs\n",
    "\n",
    "## Context\n",
    "\n",
    "### M1 Internship at LS2N, Polytech Nantes, Summer 2021 - \n",
    "\n",
    "#### SmartComputerLab\n",
    "\n",
    "[SmartComputerLab](http://www.smartcomputerlab.org/), conducted by [Przemyslaw BAKOWSKI](https://www.univ-nantes.fr/przemyslaw-bakowski), work around creating dev [IoT](https://en.wikipedia.org/wiki/Internet_of_things) kits using ARM or ESP32 [Architectures](https://en.wikipedia.org/wiki/Computer_architecture).\n",
    "\n",
    "Currently, [Prof. BAKOWSKI](https://www.univ-nantes.fr/przemyslaw-bakowski) wants to experiment the capability to use a pretty new technology in ESP32 SoCs: [MicroPython](https://en.wikipedia.org/wiki/MicroPython).\n",
    "\n",
    "#### Espressif\n",
    "\n",
    "[Espressif](https://www.espressif.com/en) is the company working on the ESP32's [Architecture](https://en.wikipedia.org/wiki/Computer_architecture).\n",
    "\n",
    "ESP32 is running on [FreeRTOS](https://en.wikipedia.org/wiki/FreeRTOS) and have specific functions developped as [ESP-IDF](https://docs.espressif.com/projects/esp-idf/en/latest/esp32/), a framework made by [Espressif](https://www.espressif.com/en).\n",
    "\n",
    "Some of these functions are really useful but not yes implemented under [MicroPython](https://en.wikipedia.org/wiki/MicroPython). Therefore, some people are already trying to implement specific [MicroPython](https://en.wikipedia.org/wiki/MicroPython) firmwares enabling these.\n",
    "\n",
    "#### ESP-NOW\n",
    "\n",
    "[ESP-NOW](https://www.espressif.com/en/products/software/esp-now/overview) is one of the [ESP-IDF](https://docs.espressif.com/projects/esp-idf/en/latest/esp32/) functionalities we want to experiment, it is kind of a [Peer-to-Peer](https://en.wikipedia.org/wiki/Peer-to-peer) WiFi proprietary protocol whose aim is to have low energy comsuption.\n",
    "\n",
    "\n",
    "Custom firmwares integrating [ESP-NOW](https://www.espressif.com/en/products/software/esp-now/overview) can be found here: https://github.com/glenn20/micropython-espnow-images\n",
    "\n",
    "#### WiFi Sniffing\n",
    "\n",
    "[ESP-IDF](https://docs.espressif.com/projects/esp-idf/en/latest/esp32/) allow developpers to create easily a WiFi sniffer, their is currently no custom firmware allowing it in [MicroPython](https://en.wikipedia.org/wiki/MicroPython), therefore we are currently working on creating it.\n",
    "\n",
    "## Installation\n",
    "\n",
    "#### Python\n",
    "\n",
    "```shell\n",
    "# Debian-based\n",
    "apt install python\n",
    "\n",
    "# Arch-based\n",
    "pacman -S python\n",
    "\n",
    "# RedHat-based\n",
    "dnf install python3\n",
    "```\n",
    "\n",
    "#### MicroPython\n",
    "\n",
    "```shell\n",
    "pip install esptool\n",
    "```\n",
    "\n",
    "#### Jupyter\n",
    "You may use either JupyterLab or JupyterNotebook at your convenience\n",
    "\n",
    "```shell\n",
    "pip install jupyterlab\n",
    "pip install notebook\n",
    "```"
   ]
  },
  {
   "cell_type": "markdown",
   "id": "nervous-service",
   "metadata": {},
   "source": [
    "Up to run MicroPython code under ESP32, a specific Jupyter Kernel is needed\n",
    "\n",
    "```shell\n",
    "pip install jupyter_micropython_kernel\n",
    "python -m jupyter_micropython_kernel.install\n",
    "```"
   ]
  },
  {
   "cell_type": "markdown",
   "id": "outer-certification",
   "metadata": {},
   "source": [
    "Now run either JupyterLab or JupyterNotebook "
   ]
  },
  {
   "cell_type": "markdown",
   "id": "unexpected-conclusion",
   "metadata": {},
   "source": [
    "## Experiments\n",
    "\n",
    "### ESP-NOW communication between two cards\n",
    "\n",
    "The Master card will be connected to the Internet by WiFi and to the Slave by ESP-NOW, and has two roles :\n",
    "- it will retrieve data from a server and send it to the Slave\n",
    "- it will receive data from the Slave and send it to the server\n",
    "\n",
    "The Slave card will be connected to the Master by ESP-NOW, and has two roles:\n",
    "- it will receive data from the Master (and will process actions in real life)\n",
    "- it will send data (from sensors in real life) to the Master\n"
   ]
  },
  {
   "cell_type": "markdown",
   "id": "emerging-rough",
   "metadata": {},
   "source": [
    "#### Install a Micropython firmware with ESP-NOW integration\n",
    "\n",
    "You can find informations about this special firmware here :\n",
    "\n",
    "https://micropython-glenn20.readthedocs.io/en/latest/library/espnow.html\n",
    "\n",
    "Run this command in a MicroPython Notebook to write the firmware to the both serial ports :"
   ]
  },
  {
   "cell_type": "code",
   "execution_count": null,
   "id": "trained-florida",
   "metadata": {},
   "outputs": [],
   "source": [
    "%esptool --port=1 esp32 bin/esp-now.bin\n",
    "%esptool --port=2 esp32 bin/esp-now.bin"
   ]
  },
  {
   "cell_type": "markdown",
   "id": "based-blackjack",
   "metadata": {},
   "source": [
    "\n",
    "#### Connect to a serial port\n",
    "\n",
    "Run this command in a MicroPython Notebook to connect to the choosed serial port :"
   ]
  },
  {
   "cell_type": "code",
   "execution_count": null,
   "id": "intermediate-consortium",
   "metadata": {},
   "outputs": [],
   "source": [
    "%serialconnect --port=1 --baud=115200"
   ]
  },
  {
   "cell_type": "markdown",
   "id": "alternative-chemical",
   "metadata": {},
   "source": [
    "#### Enable a Wifi manager and Thingspeak communication on the Master device\n",
    "\n",
    "The serial port connected need to be Master's."
   ]
  },
  {
   "cell_type": "code",
   "execution_count": null,
   "id": "entitled-prerequisite",
   "metadata": {},
   "outputs": [],
   "source": [
    "%serialconnect --port=1 --baud=115200\n",
    "\n",
    "# The mpy-cross command is used to create byte code from a py file\n",
    "%mpy-cross --set-exe ./mpy-cross\n",
    "\n",
    "# WiFi Manager\n",
    "%mpy-cross lib/wifi_manager.py\n",
    "# --binary is needed when sending a .mpy file\n",
    "%sendtofile --binary --source lib/wifi_manager.mpy /\n",
    "%sendtofile --source lib/boot_wifi_manager.py /boot.py\n",
    "\n",
    "%mpy-cross --set-exe ./mpy-cross\n",
    "\n",
    "# Thingspeak\n",
    "%mpy-cross lib/thingspeak.py\n",
    "%sendtofile --binary --source lib/thingspeak.mpy /\n",
    "\n",
    "import machine\n",
    "machine.reset()"
   ]
  },
  {
   "cell_type": "markdown",
   "id": "governmental-activation",
   "metadata": {},
   "source": [
    "The Wifi manager will create a Wifi Hotspot if it can't connect anywhere.\n",
    "\n",
    "Then you need to connect a device to this Hotspot and access from a web browser to the address 192.168.4.1 and follow instructions."
   ]
  },
  {
   "cell_type": "markdown",
   "id": "trying-rhythm",
   "metadata": {},
   "source": [
    "#### Initialize ESP-NOW on both devices\n",
    "\n",
    "Master"
   ]
  },
  {
   "cell_type": "code",
   "execution_count": null,
   "id": "speaking-tyler",
   "metadata": {},
   "outputs": [],
   "source": [
    "%serialconnect --port=1 --baud=115200\n",
    "\n",
    "import network\n",
    "from esp import espnow\n",
    "from thingspeak import post_thingspeak, get_thingspeak\n",
    "\n",
    "wlan = network.WLAN(network.AP_IF)\n",
    "wlan.active(True)\n",
    "wlan.config(hidden=True)\n",
    "\n",
    "# Prints Master's MAC\n",
    "print(wlan.config('mac'))"
   ]
  },
  {
   "cell_type": "markdown",
   "id": "intense-liquid",
   "metadata": {},
   "source": [
    "Slave"
   ]
  },
  {
   "cell_type": "code",
   "execution_count": null,
   "id": "narrative-context",
   "metadata": {},
   "outputs": [],
   "source": [
    "%serialconnect --port=2 --baud=115200\n",
    "\n",
    "import network\n",
    "from esp import espnow\n",
    "\n",
    "wlan = network.WLAN(network.AP_IF)\n",
    "wlan.config(hidden=True)\n",
    "wlan.config(ps_mode=network.WIFI_PS_NONE)\n",
    "wlan.active(True)\n",
    "\n",
    "# Prints Slave's MAC\n",
    "print(wlan.config('mac'))"
   ]
  },
  {
   "cell_type": "markdown",
   "id": "collective-check",
   "metadata": {},
   "source": [
    "#### Make Master and Slave peers\n",
    "\n",
    "Master"
   ]
  },
  {
   "cell_type": "code",
   "execution_count": null,
   "id": "killing-laundry",
   "metadata": {},
   "outputs": [],
   "source": [
    "%serialconnect --port=1 --baud=115200\n",
    "\n",
    "e = espnow.ESPNow()\n",
    "e.init()\n",
    "\n",
    "# Put here the Slave MAC printed\n",
    "peer = b'L\\x11\\xae\\x89\\xbc\\x95'\n",
    "\n",
    "e.add_peer(peer, ifidx=network.AP_IF)"
   ]
  },
  {
   "cell_type": "markdown",
   "id": "contemporary-smith",
   "metadata": {},
   "source": [
    "Slave\n"
   ]
  },
  {
   "cell_type": "code",
   "execution_count": null,
   "id": "fleet-capacity",
   "metadata": {},
   "outputs": [],
   "source": [
    "%serialconnect --port=2 --baud=115200\n",
    "\n",
    "e = espnow.ESPNow()\n",
    "e.init()\n",
    "\n",
    "# Put here the Master MAC printed\n",
    "peer = b'L\\x11\\xae\\x89\\xbd\\xd5'\n",
    "\n",
    "e.add_peer(peer, ifidx=network.AP_IF)"
   ]
  },
  {
   "cell_type": "markdown",
   "id": "strange-evaluation",
   "metadata": {},
   "source": [
    "#### Retrieve data from a server and send it to the Slave\n",
    "\n",
    "[WARNING]: warning.png\n",
    "\n",
    "![WARNING][WARNING] Don't run it here, only run it on master.ipynb and slave.ipynb to run both at the same moment ![WARNING][WARNING]\n",
    "\n",
    "\n",
    "Master"
   ]
  },
  {
   "cell_type": "code",
   "execution_count": null,
   "id": "hourly-convergence",
   "metadata": {},
   "outputs": [],
   "source": [
    "%serialconnect --port=1 --baud=115200\n",
    "\n",
    "e.clear(True)\n",
    "while True:\n",
    "    if e.poll():\n",
    "        last = None\n",
    "        for host, msg in e:\n",
    "            if msg and (str(msg, 'utf8') != last):\n",
    "                last = str(msg, 'utf8')\n",
    "                post_thingspeak(\"E13BHXREJ6K0V1DQ\", [msg])"
   ]
  },
  {
   "cell_type": "markdown",
   "id": "effective-atmosphere",
   "metadata": {},
   "source": [
    "Slave"
   ]
  },
  {
   "cell_type": "code",
   "execution_count": null,
   "id": "early-argentina",
   "metadata": {},
   "outputs": [],
   "source": [
    "%serialconnect --port=2 --baud=115200\n",
    "\n",
    "import time\n",
    "\n",
    "for i in range(5):\n",
    "    print(i)\n",
    "    ok = e.send(peer, str(i), True)\n",
    "    while not ok:\n",
    "        ok = e.send(peer, str(i), True)\n",
    "    time.sleep(0.2)"
   ]
  },
  {
   "cell_type": "markdown",
   "id": "immune-delight",
   "metadata": {},
   "source": [
    "#### Receive data from the Slave and send it to the server\n",
    "\n",
    "[WARNING]: warning.png\n",
    "\n",
    "![WARNING][WARNING] Don't run it here, only run it on master.ipynb and slave.ipynb to run both at the same moment ![WARNING][WARNING]\n",
    "\n",
    "Master"
   ]
  },
  {
   "cell_type": "code",
   "execution_count": null,
   "id": "noted-reading",
   "metadata": {},
   "outputs": [],
   "source": [
    "%serialconnect --port=2 --baud=115200\n",
    "\n",
    "import time\n",
    "\n",
    "last = \"\"\n",
    "while True:\n",
    "    data = get_thingspeak(\"179\")\n",
    "    print(data)\n",
    "    if (data != last):\n",
    "        last = data\n",
    "        ok = e.send(peer, data, True)\n",
    "        while not ok:\n",
    "            ok = e.send(peer, data, True)\n",
    "    time.sleep(1)"
   ]
  },
  {
   "cell_type": "markdown",
   "id": "responsible-translation",
   "metadata": {},
   "source": [
    "Slave"
   ]
  },
  {
   "cell_type": "code",
   "execution_count": null,
   "id": "minute-desperate",
   "metadata": {},
   "outputs": [],
   "source": [
    "%serialconnect --port=2 --baud=115200\n",
    "\n",
    "e.clear(True)\n",
    "while True:\n",
    "    if e.poll():\n",
    "        last = None\n",
    "        for host, msg in e:\n",
    "            if msg and (str(msg, 'utf8') != last):\n",
    "                last = str(msg, 'utf8')\n",
    "                print(msg)"
   ]
  }
 ],
 "metadata": {
  "kernelspec": {
   "display_name": "MicroPython - USB",
   "language": "micropython",
   "name": "micropython"
  },
  "language_info": {
   "codemirror_mode": "python",
   "file_extension": ".py",
   "mimetype": "text/python",
   "name": "micropython"
  }
 },
 "nbformat": 4,
 "nbformat_minor": 5
}
