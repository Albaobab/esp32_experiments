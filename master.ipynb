{
 "cells": [
  {
   "cell_type": "markdown",
   "id": "empty-genome",
   "metadata": {},
   "source": [
    "### MASTER - Retrieve data from a server and send it to the Slave"
   ]
  },
  {
   "cell_type": "code",
   "execution_count": null,
   "id": "intermediate-religion",
   "metadata": {},
   "outputs": [],
   "source": [
    "%serialconnect --port=MASTER_PORT --baud=115200\n",
    "\n",
    "e.clear(True)\n",
    "while True:\n",
    "    if e.poll():\n",
    "        last = None\n",
    "        for host, msg in e:\n",
    "            if msg and (str(msg, 'utf8') != last):\n",
    "                last = str(msg, 'utf8')\n",
    "                post_thingspeak(\"E13BHXREJ6K0V1DQ\", [msg])"
   ]
  },
  {
   "cell_type": "markdown",
   "id": "ruled-brunei",
   "metadata": {},
   "source": [
    "### Master - Receive data from the Slave and send it to the server"
   ]
  },
  {
   "cell_type": "code",
   "execution_count": null,
   "id": "ceramic-relevance",
   "metadata": {},
   "outputs": [],
   "source": [
    "%serialconnect --port=MASTER_PORT --baud=115200\n",
    "\n",
    "import time\n",
    "\n",
    "last = \"\"\n",
    "while True:\n",
    "    data = get_thingspeak(\"179\")\n",
    "    print(data)\n",
    "    if (data != last):\n",
    "        last = data\n",
    "        ok = e.send(peer, data, True)\n",
    "        while not ok:\n",
    "            ok = e.send(peer, data, True)\n",
    "    time.sleep(1)\n"
   ]
  }
 ],
 "metadata": {
  "kernelspec": {
   "display_name": "MicroPython - USB",
   "language": "micropython",
   "name": "micropython"
  },
  "language_info": {
   "codemirror_mode": "python",
   "file_extension": ".py",
   "mimetype": "text/python",
   "name": "micropython"
  }
 },
 "nbformat": 4,
 "nbformat_minor": 5
}
