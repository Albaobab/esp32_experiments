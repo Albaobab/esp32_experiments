{
 "cells": [
  {
   "cell_type": "markdown",
   "id": "periodic-enhancement",
   "metadata": {},
   "source": [
    "### SLAVE - Retrieve data from a server and send it to the Slave"
   ]
  },
  {
   "cell_type": "code",
   "execution_count": null,
   "id": "underlying-witness",
   "metadata": {},
   "outputs": [],
   "source": [
    "%serialconnect --port=SLAVE_PORT --baud=115200\n",
    "\n",
    "import time\n",
    "\n",
    "for i in range(5):\n",
    "    print(i)\n",
    "    ok = e.send(peer, str(i), True)\n",
    "    while not ok:\n",
    "        ok = e.send(peer, str(i), True)\n",
    "    time.sleep(0.2)"
   ]
  },
  {
   "cell_type": "markdown",
   "id": "emotional-tongue",
   "metadata": {},
   "source": [
    "### SLAVE - Receive data from the Slave and send it to the server"
   ]
  },
  {
   "cell_type": "code",
   "execution_count": null,
   "id": "indonesian-strap",
   "metadata": {},
   "outputs": [],
   "source": [
    "%serialconnect --port=SLAVE_PORT --baud=115200\n",
    "\n",
    "e.clear(True)\n",
    "while True:\n",
    "    if e.poll():\n",
    "        last = None\n",
    "        for host, msg in e:\n",
    "            if msg and (str(msg, 'utf8') != last):\n",
    "                last = str(msg, 'utf8')\n",
    "                print(msg)"
   ]
  }
 ],
 "metadata": {
  "kernelspec": {
   "display_name": "MicroPython - USB",
   "language": "micropython",
   "name": "micropython"
  },
  "language_info": {
   "codemirror_mode": "python",
   "file_extension": ".py",
   "mimetype": "text/python",
   "name": "micropython"
  }
 },
 "nbformat": 4,
 "nbformat_minor": 5
}
