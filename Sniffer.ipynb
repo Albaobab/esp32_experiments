{
 "cells": [
  {
   "cell_type": "code",
   "execution_count": null,
   "metadata": {
    "pycharm": {
     "is_executing": false,
     "name": "#%%\n"
    }
   },
   "outputs": [],
   "source": [
    "%serialconnect /dev/ttyUSB0 115200"
   ]
  },
  {
   "cell_type": "code",
   "execution_count": null,
   "metadata": {},
   "outputs": [],
   "source": []
  },
  {
   "cell_type": "code",
   "execution_count": null,
   "metadata": {},
   "outputs": [],
   "source": []
  },
  {
   "cell_type": "code",
   "execution_count": null,
   "metadata": {},
   "outputs": [],
   "source": [
    "import network\n",
    "import time\n",
    "wlan = network.WLAN()\n",
    "\n",
    "wlan.set_promiscuous(True)\n",
    "\n",
    "def cb(dic):\n",
    "    print(dic)\n",
    "\n",
    "wlan.set_promiscuous_callback(cb)\n",
    "\n",
    "while True:\n",
    "    True"
   ]
  },
  {
   "cell_type": "code",
   "execution_count": null,
   "metadata": {},
   "outputs": [],
   "source": [
    "print(wlan.get_promiscuous())"
   ]
  },
  {
   "cell_type": "code",
   "execution_count": null,
   "metadata": {
    "pycharm": {
     "is_executing": false,
     "name": "#%%\n"
    }
   },
   "outputs": [],
   "source": [
    "\n",
    "try:\n",
    "    import usocket as socket\n",
    "except:\n",
    "    import socket\n",
    "import ussl as ssl\n",
    "\n",
    "# a template of HTTP request to ThingSpeak to post temperature and humidity\n",
    "THINGSPEAK_POST_TEMPLATE = \"\"\"\n",
    "POST /update HTTP/1.1\n",
    "Host: 86.217.14.104:443\n",
    "Connection: close\n",
    "X-THINGSPEAKAPIKEY: %s\n",
    "Content-Type: application/x-www-form-urlencoded\n",
    "Content-Length: %d\n",
    "%s\n",
    "\"\"\"\n",
    "\n",
    "API_THINGSPEAK_HOST = '86.217.14.104'\n",
    "API_THINGSPEAK_PORT = 443\n",
    "THINGSPEAK_WRITE_KEY = 'E13BHXREJ6K0V1DQ'  # put your key here\n",
    "\n",
    "# timings in seconds\n",
    "MESUREMENT_INTERVAL = 300\n",
    "\n",
    "def macs():\n",
    "    mac = bytearray(6)\n",
    "    pk = sta_if.wifi_packet()\n",
    "    control = pk.data[0]\n",
    "    subtype = (0xF0 & control) >> 4\n",
    "    type = 0x0C & control\n",
    "    #print(\"Control:{}, subtype:{}, type:{}\".format(control, subtype, type))\n",
    "    if subtype == 4:\n",
    "        for i in range (0,6):\n",
    "            mac[i] = pk.data[10 + i]\n",
    "        print (\"Wifi Node with MAC: {}\".format(ubinascii.hexlify(mac)))\n",
    "\n",
    "sta_if.callback(trigger=WLAN.EVENT_PKT_MGMT, handler=macs)\n",
    "sta_if.promiscuous(True)\n",
    "\n",
    "def do_mesurement():\n",
    "    \n",
    "    # TODO : ajouter fct de récupération de ces 3 données\n",
    "    print('emacs = %.2f' % macs)\n",
    "    print('minRSSI = %.2f' % minRSSI)\n",
    "    print('maxRSSI = %.2f' % maxRSSI)\n",
    "\n",
    "    global THINGSPEAK_WRITE_KEY\n",
    "    if not THINGSPEAK_WRITE_KEY:\n",
    "        print('not ThingSpeak key specified, skip sending data')\n",
    "        return\n",
    "\n",
    "    print('send data to ThingSpeak')\n",
    "    s = socket.socket()\n",
    "    ai = socket.getaddrinfo(API_THINGSPEAK_HOST, API_THINGSPEAK_PORT)\n",
    "    addr = ai[0][-1]\n",
    "    s.connect(addr)\n",
    "    s = ssl.wrap_socket(s)\n",
    "    data = 'field1=%.2f&field2=%.2f&field3=%.2f' % (macs, minRSSI, maxRSSI)\n",
    "    http_data = THINGSPEAK_POST_TEMPLATE % (THINGSPEAK_WRITE_KEY, len(data), data)\n",
    "    s.write(http_data.encode())\n",
    "    s.close()\n",
    "\n",
    "# while True:\n",
    "#     current_time = time.time()\n",
    "#     if current_time - last_mesurement_time > MESUREMENT_INTERVAL:\n",
    "#         do_mesurement()\n",
    "#         last_mesurement_time = current_time\n",
    "#     time.sleep(DELAY)"
   ]
  },
  {
   "cell_type": "code",
   "execution_count": null,
   "metadata": {},
   "outputs": [],
   "source": []
  },
  {
   "cell_type": "code",
   "execution_count": null,
   "metadata": {},
   "outputs": [],
   "source": []
  },
  {
   "cell_type": "code",
   "execution_count": 1,
   "metadata": {},
   "outputs": [
    {
     "name": "stdout",
     "output_type": "stream",
     "text": [
      "Found serial ports: /dev/ttyS0, /dev/ttyUSB0, /dev/ttyUSB1, /dev/ttyS4 \n",
      "\u001b[34mConnecting to --port=/dev/ttyUSB1 --baud=115200 \u001b[0m\n",
      "\u001b[34mReady.\n",
      "\u001b[0m"
     ]
    }
   ],
   "source": [
    "%serialconnect --port=2 --baud=115200"
   ]
  },
  {
   "cell_type": "code",
   "execution_count": null,
   "metadata": {},
   "outputs": [],
   "source": []
  }
 ],
 "metadata": {
  "kernelspec": {
   "display_name": "MicroPython - USB",
   "language": "micropython",
   "name": "micropython"
  },
  "language_info": {
   "codemirror_mode": "python",
   "file_extension": ".py",
   "mimetype": "text/python",
   "name": "micropython"
  },
  "pycharm": {
   "stem_cell": {
    "cell_type": "raw",
    "metadata": {
     "collapsed": false
    },
    "source": []
   }
  }
 },
 "nbformat": 4,
 "nbformat_minor": 4
}
